{
 "cells": [
  {
   "cell_type": "code",
   "execution_count": 1,
   "metadata": {},
   "outputs": [
    {
     "name": "stdout",
     "output_type": "stream",
     "text": [
      "Match annulé\n",
      "Bon courage\n"
     ]
    }
   ],
   "source": [
    "meteo = 'pluie'\n",
    "if meteo == 'pluie':\n",
    "    print('Match annulé')\n",
    "print('Bon courage')"
   ]
  },
  {
   "cell_type": "code",
   "execution_count": 2,
   "metadata": {},
   "outputs": [
    {
     "name": "stdout",
     "output_type": "stream",
     "text": [
      "Bon courage\n"
     ]
    }
   ],
   "source": [
    "meteo = 'beau temps'\n",
    "if meteo == 'pluie':\n",
    "    print('Match annulé')\n",
    "print('Bon courage')"
   ]
  },
  {
   "cell_type": "code",
   "execution_count": 12,
   "metadata": {},
   "outputs": [
    {
     "name": "stdout",
     "output_type": "stream",
     "text": [
      "Bon après-midi\n",
      "Bon courage\n"
     ]
    }
   ],
   "source": [
    "import datetime as dt\n",
    "heure = dt.datetime.now()\n",
    "if heure.hour < 12:\n",
    "    print ('Bonne journée')\n",
    "else:\n",
    "    print ('Bon après-midi')\n",
    "print ('Bon courage')"
   ]
  },
  {
   "cell_type": "code",
   "execution_count": 13,
   "metadata": {},
   "outputs": [
    {
     "name": "stdout",
     "output_type": "stream",
     "text": [
      "Bon après-midi\n",
      "Bon courage\n"
     ]
    }
   ],
   "source": [
    "if (heure.hour > 4) & (heure.hour < 12):\n",
    "    print ('Bonne journée')\n",
    "elif (heure.hour > 12) & (heure.hour < 18):\n",
    "    print ('Bon après-midi')\n",
    "elif (heure.hour > 18) & (heure.hour < 23):\n",
    "    print ('Bon après-midi')\n",
    "else:\n",
    "    print ('Bon courage')\n",
    "print ('Bon courage')"
   ]
  },
  {
   "cell_type": "code",
   "execution_count": null,
   "metadata": {},
   "outputs": [],
   "source": []
  }
 ],
 "metadata": {
  "kernelspec": {
   "display_name": "Python 3",
   "language": "python",
   "name": "python3"
  },
  "language_info": {
   "codemirror_mode": {
    "name": "ipython",
    "version": 3
   },
   "file_extension": ".py",
   "mimetype": "text/x-python",
   "name": "python",
   "nbconvert_exporter": "python",
   "pygments_lexer": "ipython3",
   "version": "3.8.3"
  }
 },
 "nbformat": 4,
 "nbformat_minor": 4
}
