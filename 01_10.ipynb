{
 "cells": [
  {
   "cell_type": "code",
   "execution_count": 6,
   "metadata": {},
   "outputs": [
    {
     "data": {
      "text/plain": [
       "[0,\n",
       " 1,\n",
       " 4,\n",
       " 9,\n",
       " 16,\n",
       " 25,\n",
       " 36,\n",
       " 49,\n",
       " 64,\n",
       " 81,\n",
       " 100,\n",
       " 121,\n",
       " 144,\n",
       " 169,\n",
       " 196,\n",
       " 225,\n",
       " 256,\n",
       " 289,\n",
       " 324,\n",
       " 361]"
      ]
     },
     "execution_count": 6,
     "metadata": {},
     "output_type": "execute_result"
    }
   ],
   "source": [
    "liste = [x**2 for x in range(20)]   \n",
    "liste"
   ]
  },
  {
   "cell_type": "code",
   "execution_count": 8,
   "metadata": {},
   "outputs": [
    {
     "name": "stdout",
     "output_type": "stream",
     "text": [
      "100\n",
      "121\n",
      "144\n",
      "169\n",
      "196\n",
      "225\n",
      "256\n",
      "289\n",
      "324\n",
      "361\n",
      "Terminé\n"
     ]
    }
   ],
   "source": [
    "compteur = 10\n",
    "while compteur < 20:\n",
    "    print(liste[compteur])\n",
    "    compteur += 1\n",
    "print('Terminé')"
   ]
  },
  {
   "cell_type": "code",
   "execution_count": 9,
   "metadata": {},
   "outputs": [
    {
     "name": "stdout",
     "output_type": "stream",
     "text": [
      "100\n",
      "144\n",
      "196\n",
      "256\n",
      "324\n",
      "Terminé\n"
     ]
    }
   ],
   "source": [
    "compteur = 10\n",
    "while compteur < 20:\n",
    "    print(liste[compteur])\n",
    "    compteur += 2\n",
    "print('Terminé')"
   ]
  },
  {
   "cell_type": "code",
   "execution_count": 16,
   "metadata": {},
   "outputs": [
    {
     "name": "stdout",
     "output_type": "stream",
     "text": [
      "121\n",
      "169\n",
      "225\n",
      "289\n",
      "361\n",
      "Terminé\n"
     ]
    }
   ],
   "source": [
    "compteur = 10\n",
    "while compteur < 20:\n",
    "    if int(liste[compteur]/2) == liste[compteur]/2:\n",
    "        compteur += 1\n",
    "        continue\n",
    "    print(liste[compteur])\n",
    "    compteur += 1\n",
    "print('Terminé')"
   ]
  },
  {
   "cell_type": "code",
   "execution_count": 28,
   "metadata": {},
   "outputs": [
    {
     "name": "stdout",
     "output_type": "stream",
     "text": [
      "Avant premier nombre non divisible par 3\n",
      "0\n",
      "3\n",
      "6\n",
      "9\n",
      "Terminé\n"
     ]
    }
   ],
   "source": [
    "liste_1 = [0,3,6,9,10,12,15]\n",
    "print(\"Avant premier nombre non divisible par 3\")\n",
    "compteur = 0\n",
    "while compteur < len(liste_1):\n",
    "    if int(liste_1[compteur] / 3) != liste_1[compteur] / 3:\n",
    "        break\n",
    "    print(liste_1[compteur])\n",
    "    compteur += 1\n",
    "print('Terminé')"
   ]
  }
 ],
 "metadata": {
  "kernelspec": {
   "display_name": "Python 3",
   "language": "python",
   "name": "python3"
  },
  "language_info": {
   "codemirror_mode": {
    "name": "ipython",
    "version": 3
   },
   "file_extension": ".py",
   "mimetype": "text/x-python",
   "name": "python",
   "nbconvert_exporter": "python",
   "pygments_lexer": "ipython3",
   "version": "3.8.8"
  }
 },
 "nbformat": 4,
 "nbformat_minor": 4
}
