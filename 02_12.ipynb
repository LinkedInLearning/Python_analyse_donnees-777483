{
 "cells": [
  {
   "cell_type": "code",
   "execution_count": 1,
   "id": "168379e4",
   "metadata": {},
   "outputs": [],
   "source": [
    "import numpy as np"
   ]
  },
  {
   "cell_type": "code",
   "execution_count": 2,
   "id": "b70593f4",
   "metadata": {},
   "outputs": [
    {
     "name": "stdout",
     "output_type": "stream",
     "text": [
      "Données de ventes générées:\n",
      "[[71 34 91 80 40]\n",
      " [94 94 43 22 41]\n",
      " [72 21 49 57 21]\n",
      " [83 79 40 52 95]]\n"
     ]
    }
   ],
   "source": [
    "np.random.seed(42)\n",
    "\n",
    "produits = np.array(['p1', 'p2', 'p3', 'p4', 'p5'])\n",
    "regions = np.array(['r1', 'r2', 'r3', 'r4'])\n",
    "\n",
    "data_ventes = np.random.randint(20, 100, size=(len(regions), len(produits)))\n",
    "\n",
    "# Affichage des données générées\n",
    "print(\"Données de ventes générées:\")\n",
    "print(data_ventes)"
   ]
  },
  {
   "cell_type": "code",
   "execution_count": 4,
   "id": "05290c36",
   "metadata": {},
   "outputs": [
    {
     "name": "stdout",
     "output_type": "stream",
     "text": [
      "Pour identifier les ventes maximales et minimales pour chaque région et chaque produit, nous devons d'abord comprendre la structure des données. Supposons que chaque ligne représente une région et chaque colonne représente un produit. Voici les données de ventes :\n",
      "\n",
      "```\n",
      "[[71 34 91 80 40]\n",
      " [94 94 43 22 41]\n",
      " [72 21 49 57 21]\n",
      " [83 79 40 52 95]]\n",
      "```\n",
      "\n",
      "### Ventes maximales et minimales pour chaque région\n",
      "\n",
      "Pour chaque région, nous allons trouver la vente maximale et minimale parmi les produits.\n",
      "\n",
      "#### Région 1 : [71, 34, 91, 80, 40]\n",
      "- Maximale : 91\n",
      "- Minimale : 34\n",
      "\n",
      "#### Région 2 : [94, 94, 43, 22, 41]\n",
      "- Maximale : 94\n",
      "- Minimale : 22\n",
      "\n",
      "#### Région 3 : [72, 21, 49, 57, 21]\n",
      "- Maximale : 72\n",
      "- Minimale : 21\n",
      "\n",
      "#### Région 4 : [83, 79, 40, 52, 95]\n",
      "- Maximale : 95\n",
      "- Minimale : 40\n",
      "\n",
      "### Ventes maximales et minimales pour chaque produit\n",
      "\n",
      "Pour chaque produit, nous allons trouver la vente maximale et minimale parmi les régions.\n",
      "\n",
      "#### Produit 1 : [71, 94, 72, 83]\n",
      "- Maximale : 94\n",
      "- Minimale : 71\n",
      "\n",
      "#### Produit 2 : [34, 94, 21, 79]\n",
      "- Maximale : 94\n",
      "- Minimale : 21\n",
      "\n",
      "#### Produit 3 : [91, 43, 49, 40]\n",
      "- Maximale : 91\n",
      "- Minimale : 40\n",
      "\n",
      "#### Produit 4 : [80, 22, 57, 52]\n",
      "- Maximale : 80\n",
      "- Minimale : 22\n",
      "\n",
      "#### Produit 5 : [40, 41, 21, 95]\n",
      "- Maximale : 95\n",
      "- Minimale : 21\n",
      "\n",
      "### Résumé\n",
      "\n",
      "#### Ventes maximales et minimales par région :\n",
      "- Région 1 : Maximale = 91, Minimale = 34\n",
      "- Région 2 : Maximale = 94, Minimale = 22\n",
      "- Région 3 : Maximale = 72, Minimale = 21\n",
      "- Région 4 : Maximale = 95, Minimale = 40\n",
      "\n",
      "#### Ventes maximales et minimales par produit :\n",
      "- Produit 1 : Maximale = 94, Minimale = 71\n",
      "- Produit 2 : Maximale = 94, Minimale = 21\n",
      "- Produit 3 : Maximale = 91, Minimale = 40\n",
      "- Produit 4 : Maximale = 80, Minimale = 22\n",
      "- Produit 5 : Maximale = 95, Minimale = 21\n",
      "\n",
      "Ces résultats montrent les ventes maximales et minimales pour chaque région et chaque produit.\n"
     ]
    }
   ],
   "source": [
    "import os\n",
    "from mistralai.client import MistralClient\n",
    "from mistralai.models.chat_completion import ChatMessage\n",
    "\n",
    "api_key = 'qAOI4c3dA69nZC5UqKp9IVcMNyt5kY6O'\n",
    "model = \"mistral-large-latest\"\n",
    "\n",
    "client = MistralClient(api_key=api_key)\n",
    "\n",
    "chat_response = client.chat(\n",
    "    model=model,\n",
    "    messages=[ChatMessage(role=\"user\", content=f\"\"\"\n",
    "Voici les données de ventes :\n",
    "{data_ventes}\n",
    "\n",
    "Pouvez-vous identifier les ventes maximales et minimales pour chaque région et chaque produit ?\n",
    "\"\"\")]\n",
    ")\n",
    "\n",
    "print(chat_response.choices[0].message.content)"
   ]
  },
  {
   "cell_type": "markdown",
   "id": "b0e26556",
   "metadata": {},
   "source": []
  }
 ],
 "metadata": {
  "kernelspec": {
   "display_name": "Python 3 (ipykernel)",
   "language": "python",
   "name": "python3"
  },
  "language_info": {
   "codemirror_mode": {
    "name": "ipython",
    "version": 3
   },
   "file_extension": ".py",
   "mimetype": "text/x-python",
   "name": "python",
   "nbconvert_exporter": "python",
   "pygments_lexer": "ipython3",
   "version": "3.10.9"
  }
 },
 "nbformat": 4,
 "nbformat_minor": 5
}
