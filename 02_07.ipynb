{
 "cells": [
  {
   "cell_type": "code",
   "execution_count": 2,
   "metadata": {},
   "outputs": [],
   "source": [
    "import numpy as np"
   ]
  },
  {
   "cell_type": "code",
   "execution_count": 3,
   "metadata": {},
   "outputs": [],
   "source": [
    "a = np.array([7, 1, 5, 2, 3])"
   ]
  },
  {
   "cell_type": "code",
   "execution_count": 4,
   "metadata": {},
   "outputs": [
    {
     "data": {
      "text/plain": [
       "array([1, 2, 3, 5, 7])"
      ]
     },
     "execution_count": 4,
     "metadata": {},
     "output_type": "execute_result"
    }
   ],
   "source": [
    "np.sort(a)"
   ]
  },
  {
   "cell_type": "code",
   "execution_count": 5,
   "metadata": {},
   "outputs": [],
   "source": [
    "a = np.array([7, 1, 5, 2, 3])\n",
    "a.sort()"
   ]
  },
  {
   "cell_type": "code",
   "execution_count": 6,
   "metadata": {},
   "outputs": [
    {
     "data": {
      "text/plain": [
       "array([1, 2, 3, 5, 7])"
      ]
     },
     "execution_count": 6,
     "metadata": {},
     "output_type": "execute_result"
    }
   ],
   "source": [
    "a"
   ]
  },
  {
   "cell_type": "code",
   "execution_count": 8,
   "metadata": {},
   "outputs": [
    {
     "data": {
      "text/plain": [
       "array([1, 3, 4, 2, 0], dtype=int64)"
      ]
     },
     "execution_count": 8,
     "metadata": {},
     "output_type": "execute_result"
    }
   ],
   "source": [
    "a = np.array([7, 1, 5, 2, 3])\n",
    "ind = np.argsort(a)\n",
    "ind"
   ]
  },
  {
   "cell_type": "code",
   "execution_count": 9,
   "metadata": {},
   "outputs": [
    {
     "data": {
      "text/plain": [
       "array([1, 2, 3, 5, 7])"
      ]
     },
     "execution_count": 9,
     "metadata": {},
     "output_type": "execute_result"
    }
   ],
   "source": [
    "a[ind]"
   ]
  },
  {
   "cell_type": "code",
   "execution_count": 10,
   "metadata": {},
   "outputs": [],
   "source": [
    "rand = np.random.RandomState()\n",
    "Mat = rand.randint(1, 9, (3, 4))"
   ]
  },
  {
   "cell_type": "code",
   "execution_count": 11,
   "metadata": {},
   "outputs": [
    {
     "data": {
      "text/plain": [
       "array([[8, 7, 2, 6],\n",
       "       [1, 4, 3, 8],\n",
       "       [5, 6, 3, 8]])"
      ]
     },
     "execution_count": 11,
     "metadata": {},
     "output_type": "execute_result"
    }
   ],
   "source": [
    "Mat"
   ]
  },
  {
   "cell_type": "code",
   "execution_count": 12,
   "metadata": {},
   "outputs": [
    {
     "data": {
      "text/plain": [
       "array([[1, 4, 2, 6],\n",
       "       [5, 6, 3, 8],\n",
       "       [8, 7, 3, 8]])"
      ]
     },
     "execution_count": 12,
     "metadata": {},
     "output_type": "execute_result"
    }
   ],
   "source": [
    "np.sort(Mat, axis=0)"
   ]
  },
  {
   "cell_type": "code",
   "execution_count": 13,
   "metadata": {},
   "outputs": [
    {
     "data": {
      "text/plain": [
       "array([[1, 2, 4, 6],\n",
       "       [3, 5, 6, 8],\n",
       "       [3, 7, 8, 8]])"
      ]
     },
     "execution_count": 13,
     "metadata": {},
     "output_type": "execute_result"
    }
   ],
   "source": [
    "np.sort(np.sort(Mat, axis=0), axis=1)"
   ]
  },
  {
   "cell_type": "code",
   "execution_count": 14,
   "metadata": {},
   "outputs": [
    {
     "data": {
      "text/plain": [
       "array([[2, 6, 7, 8],\n",
       "       [1, 3, 4, 8],\n",
       "       [3, 5, 6, 8]])"
      ]
     },
     "execution_count": 14,
     "metadata": {},
     "output_type": "execute_result"
    }
   ],
   "source": [
    "np.sort(Mat, axis=1)"
   ]
  },
  {
   "cell_type": "code",
   "execution_count": 15,
   "metadata": {},
   "outputs": [],
   "source": [
    "a = np.array([7, 1, 5, 2, 3])"
   ]
  },
  {
   "cell_type": "code",
   "execution_count": 47,
   "metadata": {},
   "outputs": [
    {
     "data": {
      "text/plain": [
       "array([1, 2, 5, 7, 3])"
      ]
     },
     "execution_count": 47,
     "metadata": {},
     "output_type": "execute_result"
    }
   ],
   "source": [
    "np.partition(a, 3)"
   ]
  },
  {
   "cell_type": "code",
   "execution_count": 17,
   "metadata": {},
   "outputs": [
    {
     "data": {
      "text/plain": [
       "array([[1, 4, 2, 6],\n",
       "       [5, 6, 3, 8],\n",
       "       [8, 7, 3, 8]])"
      ]
     },
     "execution_count": 17,
     "metadata": {},
     "output_type": "execute_result"
    }
   ],
   "source": [
    "np.partition(Mat, 2, axis=0)"
   ]
  },
  {
   "cell_type": "code",
   "execution_count": 29,
   "metadata": {},
   "outputs": [
    {
     "data": {
      "text/plain": [
       "array([[ 1,  9],\n",
       "       [ 2, 14],\n",
       "       [ 3,  1],\n",
       "       [15,  8],\n",
       "       [ 3,  7],\n",
       "       [13, 18],\n",
       "       [19,  7],\n",
       "       [10,  4],\n",
       "       [15, 13],\n",
       "       [16, 17],\n",
       "       [ 3, 18],\n",
       "       [17, 17],\n",
       "       [13,  5],\n",
       "       [ 7,  3],\n",
       "       [ 6,  5]])"
      ]
     },
     "execution_count": 29,
     "metadata": {},
     "output_type": "execute_result"
    }
   ],
   "source": [
    "Mat1 = rand.randint(1, 20,30).reshape(15,2)\n",
    "Mat1"
   ]
  },
  {
   "cell_type": "code",
   "execution_count": 48,
   "metadata": {},
   "outputs": [
    {
     "data": {
      "image/png": "[encoded data removed]",
      "text/plain": [
       "<Figure size 432x288 with 1 Axes>"
      ]
     },
     "metadata": {
      "needs_background": "light"
     },
     "output_type": "display_data"
    }
   ],
   "source": [
    "%matplotlib inline\n",
    "import matplotlib.pyplot as plt\n",
    "plt.scatter(Mat1[:, 0], Mat1[:, 1]);"
   ]
  },
  {
   "cell_type": "code",
   "execution_count": 36,
   "metadata": {},
   "outputs": [],
   "source": [
    "Mat_dist = np.sum((Mat1[:,np.newaxis,:] - Mat1[np.newaxis,:,:]) ** 2, axis=-1)"
   ]
  },
  {
   "cell_type": "code",
   "execution_count": 32,
   "metadata": {},
   "outputs": [],
   "source": [
    "nearest = np.argsort(Mat_dist, axis=1)"
   ]
  },
  {
   "cell_type": "code",
   "execution_count": 33,
   "metadata": {},
   "outputs": [
    {
     "data": {
      "text/plain": [
       "array([[ 0,  4,  1, 14,  2, 13, 10,  7, 12,  3,  8,  5,  9, 11,  6],\n",
       "       [ 1, 10,  0,  4, 14,  5, 13,  7,  2,  8, 12,  3,  9, 11,  6],\n",
       "       [ 2, 13, 14,  4,  7,  0, 12,  1,  3,  8, 10,  6,  5,  9, 11],\n",
       "       [ 3, 12,  6,  8,  7,  9, 11, 13, 14,  5,  4,  2,  0,  1, 10],\n",
       "       [ 4,  0, 14, 13,  2,  1,  7, 12, 10,  3,  8,  5,  6,  9, 11],\n",
       "       [ 5,  9, 11,  8, 10,  3,  1,  6, 12,  7, 14,  4,  0, 13,  2],\n",
       "       [ 6,  3, 12,  8,  7, 11,  9,  5, 13, 14,  4,  2,  0,  1, 10],\n",
       "       [ 7, 12, 13, 14,  3,  2,  4,  6,  0,  8,  1,  5,  9, 11, 10],\n",
       "       [ 8,  9, 11,  3,  5,  6, 12,  7, 14, 13, 10,  1,  4,  0,  2],\n",
       "       [ 9, 11,  5,  8,  3,  6, 12, 10,  1,  7, 14,  4, 13,  0,  2],\n",
       "       [10,  1,  0,  5,  4,  8,  9, 14, 11, 13,  3,  7, 12,  2,  6],\n",
       "       [11,  9,  5,  8,  3,  6, 12, 10,  7,  1, 14,  4, 13,  0,  2],\n",
       "       [12,  7,  3,  6, 13, 14,  8,  4,  2,  9,  0, 11,  5,  1, 10],\n",
       "       [13, 14,  7,  2,  4, 12,  0,  3,  1,  6,  8, 10,  5,  9, 11],\n",
       "       [14, 13,  4,  7,  2,  0, 12,  3,  1,  8,  6, 10,  5,  9, 11]],\n",
       "      dtype=int64)"
      ]
     },
     "execution_count": 33,
     "metadata": {},
     "output_type": "execute_result"
    }
   ],
   "source": [
    "nearest"
   ]
  },
  {
   "cell_type": "code",
   "execution_count": 23,
   "metadata": {},
   "outputs": [],
   "source": [
    "K = 3\n",
    "nearest_partition = np.argpartition(Mat_dist, K + 1, axis=1)"
   ]
  },
  {
   "cell_type": "code",
   "execution_count": 60,
   "metadata": {},
   "outputs": [
    {
     "data": {
      "text/plain": [
       "array([[ 9,  8,  2,  0, 13, 12,  1, 14,  6,  5, 10, 11,  4,  3,  7],\n",
       "       [14,  1, 12,  8, 10,  7,  6,  5,  4,  9,  3, 11,  2, 13,  0],\n",
       "       [ 9,  8,  2,  0, 13, 12,  1, 14,  6,  5, 10, 11,  4,  3,  7],\n",
       "       [ 3,  4, 11, 13,  6,  7,  5, 12, 10, 14,  9,  8,  1,  2,  0],\n",
       "       [ 3,  4, 11, 13,  7,  6,  5, 12, 10,  0,  9,  8,  1,  2, 14],\n",
       "       [ 5,  6,  7, 10,  3,  4, 13, 12, 11, 14,  9,  8,  1,  2,  0],\n",
       "       [ 5, 10,  6,  7,  3,  4, 13, 12, 14,  9,  8, 11,  1,  2,  0],\n",
       "       [ 7, 10,  6, 12,  5,  3, 13,  4, 14,  9,  8, 11,  1,  2,  0],\n",
       "       [ 9,  8,  2,  0,  1, 12, 13, 14,  6,  5, 10, 11,  4,  3,  7],\n",
       "       [ 0,  9,  2,  8, 13, 12,  1,  4,  3, 14, 10, 11,  6,  5,  7],\n",
       "       [10,  6,  7, 12,  5, 14,  4,  1,  8,  9,  3, 11,  2, 13,  0],\n",
       "       [11,  4,  3, 13,  6,  7,  5, 12, 10,  0,  9,  8,  1,  2, 14],\n",
       "       [10,  7, 12, 14,  1, 13,  6,  4,  8,  5,  3,  2,  0, 11,  9],\n",
       "       [ 3, 13,  4, 12, 11,  7,  0,  1,  8,  9, 10,  6,  5,  2, 14],\n",
       "       [ 1, 14, 12, 10,  7,  5,  6,  4,  8,  9,  3, 11,  2, 13,  0]],\n",
       "      dtype=int64)"
      ]
     },
     "execution_count": 60,
     "metadata": {},
     "output_type": "execute_result"
    }
   ],
   "source": [
    "nearest_partition"
   ]
  },
  {
   "cell_type": "code",
   "execution_count": null,
   "metadata": {},
   "outputs": [],
   "source": []
  }
 ],
 "metadata": {
  "kernelspec": {
   "display_name": "Python 3",
   "language": "python",
   "name": "python3"
  },
  "language_info": {
   "codemirror_mode": {
    "name": "ipython",
    "version": 3
   },
   "file_extension": ".py",
   "mimetype": "text/x-python",
   "name": "python",
   "nbconvert_exporter": "python",
   "pygments_lexer": "ipython3",
   "version": "3.7.0"
  }
 },
 "nbformat": 4,
 "nbformat_minor": 2
}
