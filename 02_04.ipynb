{
 "cells": [
  {
   "cell_type": "code",
   "execution_count": 44,
   "metadata": {},
   "outputs": [],
   "source": [
    "import numpy as np"
   ]
  },
  {
   "cell_type": "code",
   "execution_count": 45,
   "metadata": {},
   "outputs": [],
   "source": [
    "def calcul_inverse(valeur):\n",
    "    resultat = np.empty(len(valeur))\n",
    "    for i in range(len(valeur)):\n",
    "        resultat[i] = 1.0 / valeur[i]\n",
    "    return resultat"
   ]
  },
  {
   "cell_type": "code",
   "execution_count": 46,
   "metadata": {},
   "outputs": [],
   "source": [
    "valeur = np.arange(2, 12, 2)"
   ]
  },
  {
   "cell_type": "code",
   "execution_count": 47,
   "metadata": {},
   "outputs": [
    {
     "data": {
      "text/plain": [
       "array([0.5       , 0.25      , 0.16666667, 0.125     , 0.1       ])"
      ]
     },
     "execution_count": 47,
     "metadata": {},
     "output_type": "execute_result"
    }
   ],
   "source": [
    "calcul_inverse(valeur)"
   ]
  },
  {
   "cell_type": "code",
   "execution_count": 50,
   "metadata": {},
   "outputs": [
    {
     "name": "stdout",
     "output_type": "stream",
     "text": [
      "939 ms ± 8.97 ms per loop (mean ± std. dev. of 7 runs, 1 loop each)\n"
     ]
    }
   ],
   "source": [
    "valeur1 = np.arange(2, 1000000, 2)\n",
    "%timeit calcul_inverse(valeur1)"
   ]
  },
  {
   "cell_type": "code",
   "execution_count": 51,
   "metadata": {},
   "outputs": [
    {
     "name": "stdout",
     "output_type": "stream",
     "text": [
      "2.3 ms ± 18.5 µs per loop (mean ± std. dev. of 7 runs, 100 loops each)\n"
     ]
    }
   ],
   "source": [
    "%timeit (1.0 / valeur1)"
   ]
  },
  {
   "cell_type": "code",
   "execution_count": 26,
   "metadata": {},
   "outputs": [
    {
     "name": "stdout",
     "output_type": "stream",
     "text": [
      "ar = [ 2  3  4  5  6  7  8  9 10 11]\n",
      "ar + 1 = [ 3  4  5  6  7  8  9 10 11 12] = [ 3  4  5  6  7  8  9 10 11 12]\n",
      "ar - 1 = [ 1  2  3  4  5  6  7  8  9 10] = [ 1  2  3  4  5  6  7  8  9 10]\n",
      "-ar =  [ -2  -3  -4  -5  -6  -7  -8  -9 -10 -11] = [ -2  -3  -4  -5  -6  -7  -8  -9 -10 -11]\n",
      "ar * 2 = [ 4  6  8 10 12 14 16 18 20 22] = [ 4  6  8 10 12 14 16 18 20 22]\n",
      "ar /2 =  [1.  1.5 2.  2.5 3.  3.5 4.  4.5 5.  5.5] = [1.  1.5 2.  2.5 3.  3.5 4.  4.5 5.  5.5]\n",
      "ar ** 2 =  [  4   9  16  25  36  49  64  81 100 121] = [  4   9  16  25  36  49  64  81 100 121]\n",
      "ar % 2 =  [0 1 0 1 0 1 0 1 0 1] = [0 1 0 1 0 1 0 1 0 1]\n"
     ]
    }
   ],
   "source": [
    "ar = np.arange(2, 12)\n",
    "print(\"ar =\", ar)\n",
    "print(\"ar + 1 =\", ar + 1,\"=\",np.add(ar, 1))\n",
    "print(\"ar - 1 =\", ar - 1,\"=\",np.subtract(ar, 1))\n",
    "print(\"-ar = \", -ar,\"=\",np.negative(ar))\n",
    "print(\"ar * 2 =\", ar * 2,\"=\",np.multiply(ar, 2))\n",
    "print(\"ar /2 = \", ar / 2,\"=\",np.divide(ar, 2))\n",
    "print(\"ar ** 2 = \", ar ** 2,\"=\",np.power(ar,2))\n",
    "print(\"ar % 2 = \", ar % 2,\"=\",np.mod(ar,2))"
   ]
  },
  {
   "cell_type": "code",
   "execution_count": 39,
   "metadata": {},
   "outputs": [],
   "source": [
    "x = np.linspace(0,10,100)"
   ]
  },
  {
   "cell_type": "code",
   "execution_count": 52,
   "metadata": {},
   "outputs": [],
   "source": [
    "sinx = np.sin(x)\n",
    "cosx = np.sin(x)"
   ]
  },
  {
   "cell_type": "code",
   "execution_count": 55,
   "metadata": {},
   "outputs": [
    {
     "data": {
      "text/plain": [
       "[<matplotlib.lines.Line2D at 0x19cf8a68470>]"
      ]
     },
     "execution_count": 55,
     "metadata": {},
     "output_type": "execute_result"
    },
    {
     "data": {
      "image/png": "[encoded data removed]",
      "text/plain": [
       "<Figure size 432x288 with 1 Axes>"
      ]
     },
     "metadata": {
      "needs_background": "light"
     },
     "output_type": "display_data"
    }
   ],
   "source": [
    "%matplotlib inline\n",
    "import matplotlib.pyplot as plt \n",
    "plt.plot(x,sinx) \n",
    "plt.plot(x,cosx,'x') "
   ]
  },
  {
   "cell_type": "code",
   "execution_count": 34,
   "metadata": {},
   "outputs": [
    {
     "data": {
      "text/plain": [
       "65"
      ]
     },
     "execution_count": 34,
     "metadata": {},
     "output_type": "execute_result"
    }
   ],
   "source": [
    "np.add.reduce(ar)"
   ]
  },
  {
   "cell_type": "code",
   "execution_count": 35,
   "metadata": {},
   "outputs": [
    {
     "data": {
      "text/plain": [
       "39916800"
      ]
     },
     "execution_count": 35,
     "metadata": {},
     "output_type": "execute_result"
    }
   ],
   "source": [
    "np.multiply.reduce(ar)"
   ]
  },
  {
   "cell_type": "code",
   "execution_count": 37,
   "metadata": {},
   "outputs": [
    {
     "data": {
      "text/plain": [
       "array([[ 4,  5,  6,  7,  8,  9, 10, 11, 12, 13],\n",
       "       [ 5,  6,  7,  8,  9, 10, 11, 12, 13, 14],\n",
       "       [ 6,  7,  8,  9, 10, 11, 12, 13, 14, 15],\n",
       "       [ 7,  8,  9, 10, 11, 12, 13, 14, 15, 16],\n",
       "       [ 8,  9, 10, 11, 12, 13, 14, 15, 16, 17],\n",
       "       [ 9, 10, 11, 12, 13, 14, 15, 16, 17, 18],\n",
       "       [10, 11, 12, 13, 14, 15, 16, 17, 18, 19],\n",
       "       [11, 12, 13, 14, 15, 16, 17, 18, 19, 20],\n",
       "       [12, 13, 14, 15, 16, 17, 18, 19, 20, 21],\n",
       "       [13, 14, 15, 16, 17, 18, 19, 20, 21, 22]])"
      ]
     },
     "execution_count": 37,
     "metadata": {},
     "output_type": "execute_result"
    }
   ],
   "source": [
    "np.add.outer(ar, ar)"
   ]
  },
  {
   "cell_type": "code",
   "execution_count": null,
   "metadata": {},
   "outputs": [],
   "source": []
  }
 ],
 "metadata": {
  "kernelspec": {
   "display_name": "Python 3",
   "language": "python",
   "name": "python3"
  },
  "language_info": {
   "codemirror_mode": {
    "name": "ipython",
    "version": 3
   },
   "file_extension": ".py",
   "mimetype": "text/x-python",
   "name": "python",
   "nbconvert_exporter": "python",
   "pygments_lexer": "ipython3",
   "version": "3.7.0"
  }
 },
 "nbformat": 4,
 "nbformat_minor": 2
}
